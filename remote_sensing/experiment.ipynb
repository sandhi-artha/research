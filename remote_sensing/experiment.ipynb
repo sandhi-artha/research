{
 "cells": [
  {
   "cell_type": "markdown",
   "metadata": {},
   "source": [
    "## Timestamp & SAR orientation"
   ]
  },
  {
   "cell_type": "code",
   "execution_count": 1,
   "metadata": {},
   "outputs": [
    {
     "name": "stdout",
     "output_type": "stream",
     "text": [
      "20190804111224_20190804111453\n"
     ]
    },
    {
     "data": {
      "text/plain": [
       "203"
      ]
     },
     "execution_count": 1,
     "metadata": {},
     "output_type": "execute_result"
    }
   ],
   "source": [
    "# find which acq date is not present\n",
    "with open('acq_dates.txt','r') as f:\n",
    "    acq = [line.split('.')[0] for line in f]\n",
    "\n",
    "print(acq[0])\n",
    "len(acq)"
   ]
  },
  {
   "cell_type": "code",
   "execution_count": 2,
   "metadata": {},
   "outputs": [
    {
     "name": "stdout",
     "output_type": "stream",
     "text": [
      "20190804111224_20190804111453\n"
     ]
    },
    {
     "data": {
      "text/plain": [
       "203"
      ]
     },
     "execution_count": 2,
     "metadata": {},
     "output_type": "execute_result"
    }
   ],
   "source": [
    "with open('SAR_orientations.txt', 'r') as f:\n",
    "    orient = [line.split(' ')[0] for line in f]\n",
    "\n",
    "print(orient[0])\n",
    "len(orient)"
   ]
  },
  {
   "cell_type": "code",
   "execution_count": 3,
   "metadata": {},
   "outputs": [
    {
     "data": {
      "text/plain": [
       "{'20190822152355_20190822152652'}"
      ]
     },
     "execution_count": 3,
     "metadata": {},
     "output_type": "execute_result"
    }
   ],
   "source": [
    "# find their difference, also 20190823081648_20190823081959 already removed in SAR_orientations.txt\n",
    "set(orient) - set(acq)"
   ]
  },
  {
   "cell_type": "code",
   "execution_count": 5,
   "metadata": {},
   "outputs": [
    {
     "name": "stdout",
     "output_type": "stream",
     "text": [
      "20190804111224_20190804111453_1\n",
      "202\n"
     ]
    }
   ],
   "source": [
    "# create new timestamp txt list with sar_orientations\n",
    "with open('SAR_orientations.txt', 'r') as f:\n",
    "    timestamp = [line.split('\\n')[0].replace(' ', '_') for line in f]\n",
    "\n",
    "print(timestamp[0])\n",
    "# exclude the trouble timestamp\n",
    "timestamp = [t for t in timestamp if '20190822152355_20190822152652' not in t]\n",
    "print(len(timestamp))\n",
    "\n",
    "import pickle\n",
    "with open('timestamp_orientation.pickle','wb') as f:\n",
    "    pickle.dump(timestamp, f)"
   ]
  },
  {
   "cell_type": "code",
   "execution_count": 6,
   "metadata": {},
   "outputs": [
    {
     "name": "stdout",
     "output_type": "stream",
     "text": [
      "20190804111224_20190804111453_1\n"
     ]
    },
    {
     "data": {
      "text/plain": [
       "202"
      ]
     },
     "execution_count": 6,
     "metadata": {},
     "output_type": "execute_result"
    }
   ],
   "source": [
    "with open('timestamp_orientation.pickle','rb') as f:\n",
    "    aa = pickle.load(f)\n",
    "\n",
    "print(aa[0])\n",
    "len(aa)"
   ]
  },
  {
   "cell_type": "code",
   "execution_count": 7,
   "metadata": {},
   "outputs": [
    {
     "data": {
      "text/plain": [
       "'20190804111224_20190804111453'"
      ]
     },
     "execution_count": 7,
     "metadata": {},
     "output_type": "execute_result"
    }
   ],
   "source": [
    "aa[0][:-2]"
   ]
  }
 ],
 "metadata": {
  "interpreter": {
   "hash": "4c09282a7cd964a587b0246cdcfc8f79099589e3997c15dbde30c4cac62e4991"
  },
  "kernelspec": {
   "display_name": "Python 3.7.11 64-bit ('sn6-tf': conda)",
   "name": "python3"
  },
  "language_info": {
   "codemirror_mode": {
    "name": "ipython",
    "version": 3
   },
   "file_extension": ".py",
   "mimetype": "text/x-python",
   "name": "python",
   "nbconvert_exporter": "python",
   "pygments_lexer": "ipython3",
   "version": "3.7.12"
  },
  "orig_nbformat": 4
 },
 "nbformat": 4,
 "nbformat_minor": 2
}
